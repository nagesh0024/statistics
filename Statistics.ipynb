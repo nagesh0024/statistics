{
  "nbformat": 4,
  "nbformat_minor": 0,
  "metadata": {
    "colab": {
      "provenance": [],
      "authorship_tag": "ABX9TyMqjMr22VSqcz2H81/PBUcy",
      "include_colab_link": true
    },
    "kernelspec": {
      "name": "python3",
      "display_name": "Python 3"
    },
    "language_info": {
      "name": "python"
    }
  },
  "cells": [
    {
      "cell_type": "markdown",
      "metadata": {
        "id": "view-in-github",
        "colab_type": "text"
      },
      "source": [
        "<a href=\"https://colab.research.google.com/github/nagesh0024/statistics/blob/main/Statistics.ipynb\" target=\"_parent\"><img src=\"https://colab.research.google.com/assets/colab-badge.svg\" alt=\"Open In Colab\"/></a>"
      ]
    },
    {
      "cell_type": "code",
      "source": [
        "import pandas as pd\n",
        "import numpy as np\n",
        "import matplotlib.pyplot as plt\n",
        "import seaborn as sns"
      ],
      "metadata": {
        "id": "ncLfQW0F4a4P"
      },
      "execution_count": 1,
      "outputs": []
    },
    {
      "cell_type": "markdown",
      "source": [
        "#Q1. Generate a list of 100 integers containing values between 90 to 130 and store it in the variable int_list. After generating the list, find the following:\n",
        "\n",
        "###(i) Write a Python function to calculate the mean of a given list of numbers. Create a function to find the median of a list of numbers."
      ],
      "metadata": {
        "id": "wmskXS5C3bEn"
      }
    },
    {
      "cell_type": "code",
      "execution_count": 45,
      "metadata": {
        "id": "wPlbbtcfYltX"
      },
      "outputs": [],
      "source": [
        "int_list = np.random.randint(90, 130, 100)\n",
        "\n",
        "def calculate_mean(numbers):\n",
        "  if len(numbers) == 0:\n",
        "    return None\n",
        "  return sum(numbers) / len(numbers)\n",
        "\n",
        "def calculate_median(numbers):\n",
        "  if len(numbers) == 0:\n",
        "    return None\n",
        "\n",
        "  sorted_numbers = sorted(numbers)\n",
        "  n = len(sorted_numbers)\n",
        "  mid = n // 2\n",
        "\n",
        "  if n % 2 == 0:\n",
        "    return (sorted_numbers[mid - 1] + sorted_numbers[mid]) / 2\n",
        "  else:\n",
        "    return sorted_numbers[mid]\n",
        "\n",
        "mean = calculate_mean(int_list)\n",
        "median = calculate_median(int_list)"
      ]
    },
    {
      "cell_type": "markdown",
      "source": [
        "###(ii) Develop a program to compute the mode of a list of integers."
      ],
      "metadata": {
        "id": "H7k7byDv4n4M"
      }
    },
    {
      "cell_type": "code",
      "source": [
        "from collections import Counter\n",
        "\n",
        "def calculate_mode(numbers):\n",
        "  if len(numbers) == 0:\n",
        "     return None\n",
        "\n",
        "  count = Counter(numbers)\n",
        "  max_count = max(count.values())\n",
        "\n",
        "  mode = [num for num, freq in count.items() if freq == max_count]\n",
        "  return mode"
      ],
      "metadata": {
        "id": "pvY8y28KW7Ix"
      },
      "execution_count": 46,
      "outputs": []
    },
    {
      "cell_type": "markdown",
      "source": [
        "###(iii) Implement a function to calculate the weighted mean of a list of values and their corresponding weights."
      ],
      "metadata": {
        "id": "y532MIccbImQ"
      }
    },
    {
      "cell_type": "code",
      "source": [
        "def calculate_weighted_mean(values, weights):\n",
        "  if len(values) != len(weights) or len(values) == 0:\n",
        "     return None\n",
        "  weighted_sum = sum(value * weight for value, weight in zip(values, weights))\n",
        "  return weighted_sum / sum(weights)"
      ],
      "metadata": {
        "id": "KjbIyiSobRGn"
      },
      "execution_count": 47,
      "outputs": []
    },
    {
      "cell_type": "markdown",
      "source": [
        "###(iv) Write a Python function to find the geometric mean of a list of positive numbers."
      ],
      "metadata": {
        "id": "fILa9e1YbbL-"
      }
    },
    {
      "cell_type": "code",
      "source": [
        "import math\n",
        "\n",
        "def calculate_geometric_mean(numbers):\n",
        "  if len(numbers) == 0:\n",
        "    return None\n",
        "  product = math.prod(numbers)\n",
        "  return product ** (1 / len(numbers))"
      ],
      "metadata": {
        "id": "ZRpao9Jrbf-e"
      },
      "execution_count": 48,
      "outputs": []
    },
    {
      "cell_type": "markdown",
      "source": [
        "###(v) Create a program to calculate the harmonic mean of a list of values."
      ],
      "metadata": {
        "id": "0rLxI0--brDZ"
      }
    },
    {
      "cell_type": "code",
      "source": [
        "def calculate_harmonic_mean(numbers):\n",
        "  if len(numbers) == 0:\n",
        "    return None\n",
        "  return len(numbers) / sum(1 / x for x in numbers)"
      ],
      "metadata": {
        "id": "bg8QKd-_bxTf"
      },
      "execution_count": 49,
      "outputs": []
    },
    {
      "cell_type": "markdown",
      "source": [
        "###(vi) Build a function to determine the midrange of a list of numbers (average of the minimum and maximum)."
      ],
      "metadata": {
        "id": "yYVVdFvFb1mA"
      }
    },
    {
      "cell_type": "code",
      "source": [
        "def calculate_midrange(numbers):\n",
        "  if len(numbers) == 0:\n",
        "    return None\n",
        "  return (min(numbers) + max(numbers)) / 2"
      ],
      "metadata": {
        "id": "hVZKd_tBcEMK"
      },
      "execution_count": 50,
      "outputs": []
    },
    {
      "cell_type": "markdown",
      "source": [
        "###(vii) Implement a Python program to find the trimmed mean of a list, excluding a certain percentage of outliers."
      ],
      "metadata": {
        "id": "mG09Wv4PcHXl"
      }
    },
    {
      "cell_type": "code",
      "source": [
        "def calculate_trimmed_mean(numbers, percentage):\n",
        "  if len(numbers) == 0 or percentage < 0 or percentage > 100:\n",
        "    return None\n",
        "\n",
        "  sorted_numbers = sorted(numbers)\n",
        "  trim_count = int(len(sorted_numbers) * (percentage / 100))\n",
        "\n",
        "  trimmed_numbers = sorted_numbers[trim_count:-trim_count]\n",
        "  return calculate_mean(trimmed_numbers)"
      ],
      "metadata": {
        "id": "bnUOesuGcMTD"
      },
      "execution_count": 51,
      "outputs": []
    },
    {
      "cell_type": "markdown",
      "source": [
        "#Q2. Generate a list of 500 integers containing values between 200 to 300 and store it in the variable int_list2. After generating the list, find the following:\n",
        "\n",
        "###(i) Compare the given list of visualization for the given data:\n",
        "\n",
        "    \n",
        "\n",
        "###1. Frequency & Gaussian distribution\n",
        "\n",
        "###2. Frequency smoothened KDE plot\n",
        "\n",
        "###3. Gaussian distribution & smoothened KDE plot"
      ],
      "metadata": {
        "id": "qYIPis3Ic9B9"
      }
    },
    {
      "cell_type": "code",
      "source": [
        "int_list2 = np.random.randint(200, 300, 500)\n",
        "\n",
        "from scipy.stats import norm\n",
        "\n",
        "data = np.array(int_list2)\n",
        "\n",
        "# Plot 1: Frequency Histogram & Gaussian Distribution\n",
        "plt.figure(figsize=(14, 6))\n",
        "\n",
        "# Histogram\n",
        "plt.subplot(1, 2, 1)\n",
        "sns.histplot(data, bins=20, kde=False, color='skyblue', stat='density')\n",
        "plt.title('Frequency Histogram')\n",
        "\n",
        "# Gaussian Distribution\n",
        "mu, std = norm.fit(data)\n",
        "xmin, xmax = plt.xlim()\n",
        "x = np.linspace(xmin, xmax, 100)\n",
        "p = norm.pdf(x, mu, std)\n",
        "plt.plot(x, p, 'k', linewidth=2, color='red')\n",
        "plt.title('Frequency Histogram & Gaussian Distribution')\n",
        "plt.xlabel('Value')\n",
        "plt.ylabel('Density')\n",
        "\n",
        "# Plot 2: Frequency Smoothened KDE plot\n",
        "plt.subplot(1, 2, 2)\n",
        "sns.histplot(data, bins=20, kde=True, color='skyblue', stat='density')\n",
        "plt.title('Frequency Histogram with KDE')\n",
        "plt.xlabel('Value')\n",
        "plt.ylabel('Density')\n",
        "\n",
        "plt.tight_layout()\n",
        "plt.show()\n",
        "\n",
        "# Plot 3: Gaussian Distribution & Smoothened KDE plot\n",
        "plt.figure(figsize=(7, 6))\n",
        "sns.kdeplot(data, color='blue', linewidth=2, label='KDE')\n",
        "plt.plot(x, p, 'k', linewidth=2, color='red', label='Gaussian')\n",
        "plt.title('Gaussian Distribution & KDE Plot')\n",
        "plt.xlabel('Value')\n",
        "plt.ylabel('Density')\n",
        "plt.legend()\n",
        "\n",
        "plt.show()"
      ],
      "metadata": {
        "id": "N9FnYk1rdfUa"
      },
      "execution_count": null,
      "outputs": []
    },
    {
      "cell_type": "markdown",
      "source": [
        "###(ii) Write a Python function to calculate the range of a given list of numbers."
      ],
      "metadata": {
        "id": "dRi0s06IjSZg"
      }
    },
    {
      "cell_type": "code",
      "source": [
        "def calculate_range(numbers):\n",
        "  return max(numbers) - min(numbers)\n",
        "\n",
        "range_of_int_list2 = calculate_range(int_list2)\n",
        "print(f\"The range of int_list2 is: {range_of_int_list2}\")"
      ],
      "metadata": {
        "id": "8Mig49ZaiKSB"
      },
      "execution_count": null,
      "outputs": []
    },
    {
      "cell_type": "markdown",
      "source": [
        "###(iii) Create a program to find the variance and standard deviation of a list of numbers."
      ],
      "metadata": {
        "id": "wbRxZXBZlKRY"
      }
    },
    {
      "cell_type": "code",
      "source": [
        "def calculate_variance(numbers):\n",
        "\n",
        "  mean = sum(numbers) / len(numbers)\n",
        "  squared_diffs = [(x - mean) ** 2 for x in numbers]\n",
        "  variance = sum(squared_diffs) / len(numbers)\n",
        "  return variance\n",
        "\n",
        "def calculate_standard_deviation(numbers):\n",
        "  variance = calculate_variance(numbers)\n",
        "  if variance is None:\n",
        "    return None\n",
        "  return math.sqrt(variance)\n",
        "variance_of_int_list2 = calculate_variance(int_list2)\n",
        "standard_deviation_of_int_list2 = calculate_standard_deviation(int_list2)"
      ],
      "metadata": {
        "id": "PjZ_IfFulLzZ"
      },
      "execution_count": 54,
      "outputs": []
    },
    {
      "cell_type": "markdown",
      "source": [
        "###(iv) Implement a function to compute the interquartile range (IQR) of a list of values"
      ],
      "metadata": {
        "id": "Ew6CvQAgmAAi"
      }
    },
    {
      "cell_type": "code",
      "source": [
        "def calculate_iqr(numbers):\n",
        "\n",
        "  sorted_numbers = sorted(numbers)\n",
        "  q1 = np.percentile(sorted_numbers, 25)\n",
        "  q3 = np.percentile(sorted_numbers, 75)\n",
        "  iqr = q3 - q1\n",
        "  return iqr\n",
        "\n",
        "iqr_of_int_list2 = calculate_iqr(int_list2)"
      ],
      "metadata": {
        "id": "SAY_5J4imGHK"
      },
      "execution_count": 55,
      "outputs": []
    },
    {
      "cell_type": "markdown",
      "source": [
        "###(v) Build a program to calculate the coefficient of variation for a dataset."
      ],
      "metadata": {
        "id": "TKJ2aKypmwID"
      }
    },
    {
      "cell_type": "code",
      "source": [
        "def calculate_coefficient_of_variation(numbers):\n",
        "  mean = calculate_mean(numbers)\n",
        "  if mean is None or mean == 0:\n",
        "    return None\n",
        "  std_dev = calculate_standard_deviation(numbers)\n",
        "  if std_dev is None:\n",
        "    return None\n",
        "  cv = (std_dev / mean) * 100\n",
        "  return cv\n",
        "\n",
        "cv_of_int_list2 = calculate_coefficient_of_variation(int_list2)"
      ],
      "metadata": {
        "id": "7PcSJ0QJm2wL"
      },
      "execution_count": 56,
      "outputs": []
    },
    {
      "cell_type": "markdown",
      "source": [
        "###(vi) Write a Python function to find the mean absolute deviation (MAD) of a list of numbers."
      ],
      "metadata": {
        "id": "jeDt4nQAoKbg"
      }
    },
    {
      "cell_type": "code",
      "source": [
        "def calculate_mean_absolute_deviation(numbers):\n",
        "  mean = calculate_mean(numbers)\n",
        "  if mean is None:\n",
        "    return None\n",
        "\n",
        "  absolute_deviations = [abs(x - mean) for x in numbers]\n",
        "\n",
        "  mad = np.mean(absolute_deviations)\n",
        "\n",
        "  return mad\n",
        "\n",
        "mad_of_int_list2 = calculate_mean_absolute_deviation(int_list2)"
      ],
      "metadata": {
        "id": "M1Z-4gKNoO4d"
      },
      "execution_count": 57,
      "outputs": []
    },
    {
      "cell_type": "markdown",
      "source": [
        "###(vii) Create a program to calculate the quartile deviation of a list of values."
      ],
      "metadata": {
        "id": "xk8Tye_2orDi"
      }
    },
    {
      "cell_type": "code",
      "source": [
        "def calculate_quartile_deviation(numbers):\n",
        "\n",
        "  sorted_numbers = sorted(numbers)\n",
        "  q1 = np.percentile(sorted_numbers, 25)\n",
        "  q3 = np.percentile(sorted_numbers, 75)\n",
        "  iqr = q3 - q1\n",
        "  quartile_deviation = iqr / 2\n",
        "  return quartile_deviation\n",
        "\n",
        "quartile_deviation_of_int_list2 = calculate_quartile_deviation(int_list2)"
      ],
      "metadata": {
        "id": "sHdP5_PRo1lm"
      },
      "execution_count": 58,
      "outputs": []
    },
    {
      "cell_type": "markdown",
      "source": [
        "###(viii) Implement a function to find the range-based coefficient of dispersion for a dataset."
      ],
      "metadata": {
        "id": "taefpP_spZ4h"
      }
    },
    {
      "cell_type": "code",
      "source": [
        "def calculate_range(numbers):\n",
        "  return np.max(numbers) - np.min(numbers)\n",
        "\n",
        "def calculate_coefficient_of_dispersion(numbers):\n",
        "  mean = calculate_mean(numbers)\n",
        "  if mean is None or mean == 0:\n",
        "    return None\n",
        "\n",
        "  data_range = calculate_range(numbers)\n",
        "  if data_range is None:\n",
        "    return None\n",
        "\n",
        "  coefficient_of_dispersion = (data_range / mean) * 100\n",
        "  return coefficient_of_dispersion\n",
        "\n",
        "coefficient_of_dispersion_of_int_list2 = calculate_coefficient_of_dispersion(int_list2)"
      ],
      "metadata": {
        "id": "IRgiTxFGpd2g"
      },
      "execution_count": 59,
      "outputs": []
    },
    {
      "cell_type": "markdown",
      "source": [
        "#Q3. Write a Python class representing a discrete random variable with methods to calculate its expected value and variance."
      ],
      "metadata": {
        "id": "3v73yfbeqSwA"
      }
    },
    {
      "cell_type": "code",
      "source": [
        "class DiscreteRandomVariable:\n",
        "  def __init__(self, probabilities, values):\n",
        "    if len(probabilities) != len(values):\n",
        "      raise ValueError(\"Length of probabilities and values must be the same.\")\n",
        "    if not (0 < sum(probabilities) <= 1):\n",
        "      raise ValueError(\"Sum of probabilities must be between 0 and 1.\")\n",
        "    if any(p < 0 for p in probabilities):\n",
        "      raise ValueError(\"Probabilities must be non-negative.\")\n",
        "\n",
        "    self.probabilities = probabilities\n",
        "    self.values = values\n",
        "\n",
        "  def expected_value(self):\n",
        "    return sum(p * v for p, v in zip(self.probabilities, self.values))\n",
        "\n",
        "  def variance(self):\n",
        "    mean = self.expected_value()\n",
        "    return sum(p * (v - mean) ** 2 for p, v in zip(self.probabilities, self.values))"
      ],
      "metadata": {
        "id": "ReosxYtGqeJM"
      },
      "execution_count": 60,
      "outputs": []
    },
    {
      "cell_type": "markdown",
      "source": [
        "#Q4. Implement a program to simulate the rolling of a fair six-sided die and calculate the expected value and variance of the outcomes."
      ],
      "metadata": {
        "id": "MJzEmuc7r8bT"
      }
    },
    {
      "cell_type": "code",
      "source": [
        "import random\n",
        "def simulate_die_rolls(num_rolls):\n",
        "  outcomes = [random.randint(1, 6) for _ in range(num_rolls)]\n",
        "  return outcomes\n",
        "\n",
        "# Calculate the probabilities of each outcome\n",
        "def calculate_probabilities(outcomes):\n",
        "  frequency = {i: outcomes.count(i) for i in range(1, 7)}\n",
        "  total_rolls = len(outcomes)\n",
        "  probabilities = [frequency[i] / total_rolls for i in range(1, 7)]\n",
        "  return probabilities\n",
        "\n",
        "# Main program\n",
        "num_rolls = 10000  # Number of rolls to simulate\n",
        "outcomes = simulate_die_rolls(num_rolls)\n",
        "\n",
        "# Values of a six-sided die\n",
        "values = [1, 2, 3, 4, 5, 6]\n",
        "probabilities = calculate_probabilities(outcomes)\n",
        "\n",
        "# Create DiscreteRandomVariable instance\n",
        "die = DiscreteRandomVariable(probabilities, values)\n",
        "\n",
        "# Calculate expected value and variance\n",
        "expected_value = die.expected_value()\n",
        "variance = die.variance()\n",
        "\n",
        "print(\"Expected Value:\", expected_value)\n",
        "print(\"Variance:\", variance)"
      ],
      "metadata": {
        "id": "WjUj1bxysNRG",
        "colab": {
          "base_uri": "https://localhost:8080/"
        },
        "outputId": "85e17134-9107-4d5e-e6ec-6392537f1310"
      },
      "execution_count": 61,
      "outputs": [
        {
          "output_type": "stream",
          "name": "stdout",
          "text": [
            "Expected Value: 3.4922\n",
            "Variance: 2.92233916\n"
          ]
        }
      ]
    },
    {
      "cell_type": "markdown",
      "source": [
        "#Q5.  Create a Python function to generate random samples from a given probability distribution (e.g., binomial, Poisson) and calculate their mean and variance."
      ],
      "metadata": {
        "id": "UNHRI3siucWI"
      }
    },
    {
      "cell_type": "code",
      "source": [
        "def generate_random_samples(distribution, params, size=1000):\n",
        "\n",
        "  if distribution == 'binomial':\n",
        "    n = params.get('n', 1)\n",
        "    p = params.get('p', 0.5)\n",
        "    samples = np.random.binomial(n, p, size)\n",
        "  elif distribution == 'poisson':\n",
        "    lam = params.get('lam', 1.0)\n",
        "    samples = np.random.poisson(lam, size)\n",
        "  elif distribution == 'normal':\n",
        "    mu = params.get('mu', 0.0)\n",
        "    sigma = params.get('sigma', 1.0)\n",
        "    samples = np.random.normal(mu, sigma, size)\n",
        "  else:\n",
        "    raise ValueError(\"Unsupported distribution type. Supported types: 'binomial', 'poisson', 'normal'.\")\n",
        "\n",
        "  mean = np.mean(samples)\n",
        "  variance = np.var(samples)\n",
        "\n",
        "  return mean, variance"
      ],
      "metadata": {
        "id": "kEUoaqeGujsa"
      },
      "execution_count": 62,
      "outputs": []
    },
    {
      "cell_type": "markdown",
      "source": [
        "#Q6. Write a Python script to generate random numbers from a Gaussian (normal) distribution and compute the mean, variance, and standard deviation of the samples.\n"
      ],
      "metadata": {
        "id": "PEhf5c-4wc3_"
      }
    },
    {
      "cell_type": "code",
      "source": [
        "def generate_normal_samples(mu, sigma, size=1000):\n",
        "\n",
        "  samples = np.random.normal(mu, sigma, size)\n",
        "  mean = np.mean(samples)\n",
        "  variance = np.var(samples)\n",
        "  std_deviation = np.std(samples)\n",
        "\n",
        "  return mean, variance, std_deviation\n",
        "\n",
        "mu = 0\n",
        "sigma = 1\n",
        "sample_size = 1000\n",
        "\n",
        "mean, variance, std_deviation = generate_normal_samples(mu, sigma, sample_size)"
      ],
      "metadata": {
        "id": "6pryKDzIwcNe"
      },
      "execution_count": 63,
      "outputs": []
    },
    {
      "cell_type": "markdown",
      "source": [
        "#Q7. Use seaborn library to load tips dataset. Find the following from the dataset for the columns total_bill and tip:\n",
        "\n",
        "###(i) Write a Python function that calculates their skewness."
      ],
      "metadata": {
        "id": "YigV47n2x1Z2"
      }
    },
    {
      "cell_type": "code",
      "source": [
        "import scipy.stats as stats\n",
        "\n",
        "def calculate_skewness(data, column):\n",
        "  return stats.skew(data[column])\n",
        "\n",
        "tips = sns.load_dataset('tips')\n",
        "\n",
        "total_bill_skewness = calculate_skewness(tips, 'total_bill')\n",
        "tip_skewness = calculate_skewness(tips, 'tip')\n",
        "\n",
        "print(f\"Skewness of 'total_bill': {total_bill_skewness}\")\n",
        "print(f\"Skewness of 'tip': {tip_skewness}\")"
      ],
      "metadata": {
        "id": "pN9fyukayZVe"
      },
      "execution_count": null,
      "outputs": []
    },
    {
      "cell_type": "markdown",
      "source": [
        "###(ii) Create a program that determines whether the columns exhibit positive skewness, negative skewness, or is approximately symmetric."
      ],
      "metadata": {
        "id": "_dSeDO5tzUWm"
      }
    },
    {
      "cell_type": "code",
      "source": [
        "def determine_skewness_type(skewness):\n",
        "\n",
        "  if skewness > 0:\n",
        "    return \"Positive skewness\"\n",
        "  elif skewness < 0:\n",
        "    return \"Negative skewness\"\n",
        "  else:\n",
        "    return \"Approximately symmetric\"\n",
        "\n",
        "total_bill_skewness = calculate_skewness(tips, 'total_bill')\n",
        "tip_skewness = calculate_skewness(tips, 'tip')\n",
        "\n",
        "total_bill_skewness_type = determine_skewness_type(total_bill_skewness)\n",
        "tip_skewness_type = determine_skewness_type(tip_skewness)"
      ],
      "metadata": {
        "id": "-dDkOU60zr_d"
      },
      "execution_count": 65,
      "outputs": []
    },
    {
      "cell_type": "markdown",
      "source": [
        "###(iii) Write a function that calculates the covariance between two columns."
      ],
      "metadata": {
        "id": "BE3iXlhf0R15"
      }
    },
    {
      "cell_type": "code",
      "source": [
        "def calculate_covariance(data, column1, column2):\n",
        "  return np.cov(data[column1], data[column2], bias=True)[0][1]\n",
        "\n",
        "covariance_total_bill_tip = calculate_covariance(tips, 'total_bill', 'tip')\n",
        "\n",
        "print(f\"Covariance between 'total_bill' and 'tip': {covariance_total_bill_tip}\")"
      ],
      "metadata": {
        "id": "GPiGpA1w0fTi"
      },
      "execution_count": null,
      "outputs": []
    },
    {
      "cell_type": "markdown",
      "source": [
        "###(iv) Implement a Python program that calculates the Pearson correlation coefficient between two columns."
      ],
      "metadata": {
        "id": "xnogxLdm1FMm"
      }
    },
    {
      "cell_type": "code",
      "source": [
        "def calculate_pearson_correlation(data, column1, column2):\n",
        "\n",
        "  correlation, p_value = stats.pearsonr(data[column1], data[column2])\n",
        "  return correlation, p_value\n",
        "\n",
        "correlation_total_bill_tip, p_value_total_bill_tip = calculate_pearson_correlation(tips, 'total_bill', 'tip')\n",
        "\n",
        "print(f\"Pearson correlation between 'total_bill' and 'tip': {correlation_total_bill_tip}\")"
      ],
      "metadata": {
        "id": "0RDwK3jE1QC8"
      },
      "execution_count": null,
      "outputs": []
    },
    {
      "cell_type": "markdown",
      "source": [
        "###(v) Write a script to visualize the correlation between two specific columns in a Pandas DataFrame using scatter plots."
      ],
      "metadata": {
        "id": "mgB4UBjI18mX"
      }
    },
    {
      "cell_type": "code",
      "source": [
        "def visualize_correlation(data, column1, column2):\n",
        "\n",
        "  plt.figure(figsize=(10, 6))\n",
        "  sns.scatterplot(data=data, x=column1, y=column2)\n",
        "  plt.title(f'Scatter Plot of {column1} vs {column2}')\n",
        "  plt.xlabel(column1)\n",
        "  plt.ylabel(column2)\n",
        "  plt.grid(True)\n",
        "  plt.show()\n",
        "\n",
        "visualize_correlation(tips, 'total_bill', 'tip')"
      ],
      "metadata": {
        "id": "ldra8UzH2Kw3"
      },
      "execution_count": null,
      "outputs": []
    },
    {
      "cell_type": "markdown",
      "source": [
        "#Q8. Write a Python function to calculate the probability density function (PDF) of a continuous random variable for a given normal distribution."
      ],
      "metadata": {
        "id": "EN4GT7gt2muj"
      }
    },
    {
      "cell_type": "code",
      "source": [
        "def normal_pdf(x, mu, sigma):\n",
        "\n",
        "  return stats.norm.pdf(x, loc=mu, scale=sigma)\n",
        "\n",
        "mu = 0\n",
        "sigma = 1\n",
        "x_values = np.linspace(-5, 5, 100)  # Generate 100 values from -5 to 5\n",
        "\n",
        "pdf_values = normal_pdf(x_values, mu, sigma)\n",
        "\n",
        "print(\"x values:\", x_values)\n",
        "print(\"PDF values:\", pdf_values)"
      ],
      "metadata": {
        "id": "KBAHy0rE21d8"
      },
      "execution_count": null,
      "outputs": []
    },
    {
      "cell_type": "markdown",
      "source": [
        "#Q9. Create a program to calculate the cumulative distribution function (CDF) of exponential distribution."
      ],
      "metadata": {
        "id": "uPvlLrLw3xI7"
      }
    },
    {
      "cell_type": "code",
      "source": [
        "def exponential_cdf(x, lambda_param):\n",
        "\n",
        "  return stats.expon.cdf(x, scale=1/lambda_param)\n",
        "\n",
        "lambda_param = 1\n",
        "x_values = np.linspace(0, 5, 100)  # Generate 100 values from 0 to 5\n",
        "\n",
        "cdf_values = exponential_cdf(x_values, lambda_param)\n",
        "\n",
        "print(\"x values:\", x_values)\n",
        "print(\"CDF values:\", cdf_values)"
      ],
      "metadata": {
        "id": "5fEihvdJ36b_"
      },
      "execution_count": null,
      "outputs": []
    },
    {
      "cell_type": "markdown",
      "source": [
        "#Q10. Write a Python function to calculate the probability mass function (PMF) of Poisson distribution."
      ],
      "metadata": {
        "id": "1GkaZ8TV4QzM"
      }
    },
    {
      "cell_type": "code",
      "source": [
        "def poisson_pmf(k, lambda_param):\n",
        "\n",
        "  return stats.poisson.pmf(k, lambda_param)\n",
        "\n",
        "lambda_param = 4\n",
        "k_values = np.arange(0, 15)  # Generate integer values from 0 to 14\n",
        "\n",
        "pmf_values = poisson_pmf(k_values, lambda_param)\n",
        "\n",
        "print(\"k values:\", k_values)\n",
        "print(\"PMF values:\", pmf_values)"
      ],
      "metadata": {
        "id": "tSUprama4bcT"
      },
      "execution_count": null,
      "outputs": []
    },
    {
      "cell_type": "markdown",
      "source": [
        "#Q11. A company wants to test if a new website layout leads to a higher conversion rate (percentage of visitors who make a purchase). They collect data from the old and new layouts to compare.\n",
        "\n",
        "###To generate the data use the following command:\n",
        "\n",
        "```python\n",
        "\n",
        "import numpy as np\n",
        "\n",
        "# 50 purchases out of 1000 visitors\n",
        "old_layout = np.array([1] * 50 + [0] * 950)\n",
        "\n",
        "# 70 purchases out of 1000 visitors  \n",
        "new_layout = np.array([1] * 70 + [0] * 930)\n",
        "\n",
        "  ```\n",
        "\n",
        "###Apply z-test to find which layout is successful."
      ],
      "metadata": {
        "id": "8FQQ5FTCyjrP"
      }
    },
    {
      "cell_type": "code",
      "source": [
        "old_layout = np.array([1] * 50 + [0] * 950)\n",
        "new_layout = np.array([1] * 70 + [0] * 930)\n",
        "\n",
        "# Proportions\n",
        "p_old = np.mean(old_layout)\n",
        "p_new = np.mean(new_layout)\n",
        "\n",
        "# Pooled proportion\n",
        "p_pooled = (np.sum(old_layout) + np.sum(new_layout)) / (len(old_layout) + len(new_layout))\n",
        "\n",
        "# Standard error\n",
        "SE = np.sqrt(p_pooled * (1 - p_pooled) * (1/len(old_layout) + 1/len(new_layout)))\n",
        "\n",
        "# Z-score\n",
        "z_score = (p_old - p_new) / SE\n",
        "\n",
        "# P-value\n",
        "p_value = 2 * (1 - stats.norm.cdf(np.abs(z_score)))\n",
        "\n",
        "(p_old, p_new, z_score, p_value)"
      ],
      "metadata": {
        "id": "zkoZnL72ygxf"
      },
      "execution_count": null,
      "outputs": []
    },
    {
      "cell_type": "markdown",
      "source": [
        "#Q12. A tutoring service claims that its program improves students' exam scores. A sample of students who participated in the program was taken, and their scores before and after the program were recorded.\n",
        "\n",
        "###Use the below code to ge<erate samples of respective arrays of marks:\n",
        "\n",
        "```python\n",
        "\n",
        "before_program = np.array([75, 80, 85, 70, 90, 78, 92, 88, 82, 87])\n",
        "\n",
        "after_program = np.array([80, 85, 90, 80, 92, 80, 95, 90, 85, 88])\n",
        "\n",
        "```\n",
        "\n",
        "###Use z-test to fi<d if the claims made by tutor are true or false."
      ],
      "metadata": {
        "id": "pmNOYQVr0r8g"
      }
    },
    {
      "cell_type": "code",
      "source": [
        "before_program = np.array([75, 80, 85, 70, 90, 78, 92, 88, 82, 87])\n",
        "after_program = np.array([80, 85, 90, 80, 92, 80, 95, 90, 85, 88])\n",
        "\n",
        "# Differences\n",
        "differences = after_program - before_program\n",
        "\n",
        "# Mean and standard deviation of differences\n",
        "mean_diff = np.mean(differences)\n",
        "std_diff = np.std(differences, ddof=1)\n",
        "\n",
        "# Standard error\n",
        "SE_diff = std_diff / np.sqrt(len(differences))\n",
        "\n",
        "# Z-score\n",
        "z_score = mean_diff / SE_diff\n",
        "\n",
        "# P-value\n",
        "p_value = 2 * (1 - stats.norm.cdf(np.abs(z_score)))\n",
        "\n",
        "(mean_diff, std_diff, z_score, p_value)"
      ],
      "metadata": {
        "id": "_hjSfJ041MoV"
      },
      "execution_count": null,
      "outputs": []
    },
    {
      "cell_type": "markdown",
      "source": [
        "#Q13.A pharmaceutical company wants to determine if a new drug is effective in reducing blood pressure. They conduct a study and record blood pressure measurements before and aNter administering the drug.\n",
        "\n",
        "###Use the below code to generate samples of respective arrays of blood pressure:\n",
        "\n",
        "\n",
        "```python\n",
        "\n",
        "before_drug = np.array([145, 150, 140, 135, 155, 160, 152, 148, 130, 138])\n",
        "\n",
        "after_drug = np.array([130, 140, 132, 128, 145, 148, 138, 136, 125, 130])\n",
        "\n",
        "  ```\n",
        "\n",
        "\n",
        "###Implement z-test to find if the drug really works or not."
      ],
      "metadata": {
        "id": "7fo1p4yk1wkX"
      }
    },
    {
      "cell_type": "code",
      "source": [
        "before_drug = np.array([145, 150, 140, 135, 155, 160, 152, 148, 130, 138])\n",
        "after_drug = np.array([130, 140, 132, 128, 145, 148, 138, 136, 125, 130])\n",
        "\n",
        "# Differences\n",
        "differences = after_drug - before_drug\n",
        "\n",
        "# Mean and standard deviation of differences\n",
        "mean_diff = np.mean(differences)\n",
        "std_diff = np.std(differences, ddof=1)\n",
        "\n",
        "# Standard error\n",
        "SE_diff = std_diff / np.sqrt(len(differences))\n",
        "\n",
        "# Z-score\n",
        "z_score = mean_diff / SE_diff\n",
        "\n",
        "# P-value\n",
        "p_value = 2 * (1 - stats.norm.cdf(np.abs(z_score)))\n",
        "\n",
        "(mean_diff, std_diff, z_score, p_value)"
      ],
      "metadata": {
        "id": "5kYl1DnM2QAO"
      },
      "execution_count": null,
      "outputs": []
    },
    {
      "cell_type": "markdown",
      "source": [
        "#Q14. A customer service department claims that their average response time is less than 5 minutes. A sample of recent customer interactions was taken, and the response times were recorded.\n",
        "\n",
        "###Implement the below code to generate the array of response time:\n",
        "\n",
        "```python\n",
        "\n",
        "response_times = np.array([4.3, 3.8, 5.1, 4.9, 4.7, 4.2, 5.2, 4.5, 4.6, 4.4])\n",
        "\n",
        "```\n",
        "\n",
        "###Implement z-test to find the claims made by customer service department are true or false."
      ],
      "metadata": {
        "id": "m6FD-Vn22vum"
      }
    },
    {
      "cell_type": "code",
      "source": [
        "response_times = np.array([4.3, 3.8, 5.1, 4.9, 4.7, 4.2, 5.2, 4.5, 4.6, 4.4])\n",
        "\n",
        "# Hypothesized population mean\n",
        "mu_0 = 5\n",
        "\n",
        "# Calculate sample statistics\n",
        "sample_mean = np.mean(response_times)\n",
        "sample_std = np.std(response_times, ddof=1)\n",
        "n = len(response_times)\n",
        "\n",
        "# Perform the z-test\n",
        "z_value = (sample_mean - mu_0) / (sample_std / np.sqrt(n))\n",
        "\n",
        "# Calculate the p-value for a one-tailed test\n",
        "p_value = stats.norm.cdf(z_value)\n",
        "\n",
        "print(f\"Sample Mean: {sample_mean:.2f}\")\n",
        "print(f\"Sample Standard Deviation: {sample_std:.2f}\")\n",
        "print(f\"Z-value: {z_value:.2f}\")\n",
        "print(f\"P-value: {p_value:.4f}\")\n",
        "\n",
        "# Determine if we reject the null hypothesis\n",
        "alpha = 0.05\n",
        "if p_value < alpha:\n",
        "  print(\"Reject the null hypothesis. The claim that the average response time is less than 5 minutes is supported.\")\n",
        "else:\n",
        "  print(\"Fail to reject the null hypothesis. There is not enough evidence to support the claim that the average response time is less than 5 minutes.\")"
      ],
      "metadata": {
        "id": "UeIfWQRt3mkf"
      },
      "execution_count": null,
      "outputs": []
    },
    {
      "cell_type": "markdown",
      "source": [
        "#Q15. A company is testing two different website layouts to see which one leads to higher click-through rates. Write a Python function to perform an A/B test analysis, including calculating the t-statistic, degrees of freedom, and p-value.\n",
        "\n",
        "###Use the following data:\n",
        "\n",
        "```python\n",
        "\n",
        "layout_a_clicks = [28, 32, 33, 29, 31, 34, 30, 35, 36, 37]\n",
        "\n",
        "layout_b_clicks = [40, 41, 38, 42, 39, 44, 43, 41, 45, 47]\n",
        "```"
      ],
      "metadata": {
        "id": "tUOh_-P34e6K"
      }
    },
    {
      "cell_type": "code",
      "source": [
        "\n",
        "def ab_test(layout_a_clicks, layout_b_clicks):\n",
        "  # Convert lists to numpy arrays\n",
        "  layout_a_clicks = np.array(layout_a_clicks)\n",
        "  layout_b_clicks = np.array(layout_b_clicks)\n",
        "\n",
        "  # Calculate sample means\n",
        "  mean_a = np.mean(layout_a_clicks)\n",
        "  mean_b = np.mean(layout_b_clicks)\n",
        "\n",
        "  # Calculate sample standard deviations\n",
        "  std_a = np.std(layout_a_clicks, ddof=1)\n",
        "  std_b = np.std(layout_b_clicks, ddof=1)\n",
        "\n",
        "  # Calculate sample sizes\n",
        "  n_a = len(layout_a_clicks)\n",
        "  n_b = len(layout_b_clicks)\n",
        "\n",
        "  # Calculate t-statistic\n",
        "  t_statistic = (mean_a - mean_b) / np.sqrt((std_a**2 / n_a) + (std_b**2 / n_b))\n",
        "\n",
        "  # Calculate degrees of freedom\n",
        "  df_num = ((std_a**2 / n_a) + (std_b**2 / n_b))**2\n",
        "  df_den = ((std_a**2 / n_a)**2 / (n_a - 1)) + ((std_b**2 / n_b)**2 / (n_b - 1))\n",
        "  degrees_of_freedom = df_num / df_den\n",
        "\n",
        "  # Calculate p-value\n",
        "  p_value = 2 * (1 - stats.t.cdf(np.abs(t_statistic), df=degrees_of_freedom))\n",
        "\n",
        "  return t_statistic, degrees_of_freedom, p_value\n",
        "\n",
        "# Given data\n",
        "layout_a_clicks = [28, 32, 33, 29, 31, 34, 30, 35, 36, 37]\n",
        "layout_b_clicks = [40, 41, 38, 42, 39, 44, 43, 41, 45, 47]\n",
        "\n",
        "# Perform A/B test\n",
        "t_stat, df, p_val = ab_test(layout_a_clicks, layout_b_clicks)\n",
        "\n",
        "print(f\"T-statistic: {t_stat:.2f}\")\n",
        "print(f\"Degrees of Freedom: {df:.2f}\")\n",
        "print(f\"P-value: {p_val:.4f}\")\n",
        "\n",
        "# Determine if we reject the null hypothesis\n",
        "alpha = 0.05\n",
        "if p_val < alpha:\n",
        "  print(\"Reject the null hypothesis. There is a significant difference between the two layouts.\")\n",
        "else:\n",
        "  print(\"Fail to reject the null hypothesis. There is no significant difference between the two layouts.\")"
      ],
      "metadata": {
        "id": "HVZjdmXh48fT"
      },
      "execution_count": null,
      "outputs": []
    },
    {
      "cell_type": "markdown",
      "source": [
        "#Q16. A pharmaceutical company wants to determine if a new drug is more effective than an existing drug in reducing cholesterol levels. Create a program to analyze the clinical trial data and calculate the tstatistic and p-value for the treatment effect.\n",
        "\n",
        "###Use the following data of cholestrol level:\n",
        "\n",
        "```python\n",
        "\n",
        "existing_drug_levels = [180, 182, 175, 185, 178, 176, 172, 184, 179, 183]\n",
        "\n",
        "new_drug_levels = [170, 172, 165, 168, 175, 173, 170, 178, 172, 176]\n",
        "```"
      ],
      "metadata": {
        "id": "Di9h9G7a6hhF"
      }
    },
    {
      "cell_type": "code",
      "source": [
        "\n",
        "def analyze_drug_effectiveness(existing_drug_levels, new_drug_levels):\n",
        "  # Convert lists to numpy arrays\n",
        "  existing_drug_levels = np.array(existing_drug_levels)\n",
        "  new_drug_levels = np.array(new_drug_levels)\n",
        "\n",
        "  # Calculate sample means\n",
        "  mean_existing = np.mean(existing_drug_levels)\n",
        "  mean_new = np.mean(new_drug_levels)\n",
        "\n",
        "  # Calculate sample standard deviations\n",
        "  std_existing = np.std(existing_drug_levels, ddof=1)\n",
        "  std_new = np.std(new_drug_levels, ddof=1)\n",
        "\n",
        "  # Calculate sample sizes\n",
        "  n_existing = len(existing_drug_levels)\n",
        "  n_new = len(new_drug_levels)\n",
        "\n",
        "  # Calculate t-statistic\n",
        "  t_statistic = (mean_existing - mean_new) / np.sqrt((std_existing**2 / n_existing) + (std_new**2 / n_new))\n",
        "\n",
        "  # Calculate degrees of freedom\n",
        "  df_num = ((std_existing**2 / n_existing) + (std_new**2 / n_new))**2\n",
        "  df_den = ((std_existing**2 / n_existing)**2 / (n_existing - 1)) + ((std_new**2 / n_new)**2 / (n_new - 1))\n",
        "  degrees_of_freedom = df_num / df_den\n",
        "\n",
        "  # Calculate p-value for one-tailed test\n",
        "  p_value = stats.t.cdf(t_statistic, df=degrees_of_freedom)\n",
        "\n",
        "  return t_statistic, degrees_of_freedom, p_value\n",
        "\n",
        "# Given data\n",
        "existing_drug_levels = [180, 182, 175, 185, 178, 176, 172, 184, 179, 183]\n",
        "new_drug_levels = [170, 172, 165, 168, 175, 173, 170, 178, 172, 176]\n",
        "\n",
        "# Perform analysis\n",
        "t_stat, df, p_val = analyze_drug_effectiveness(existing_drug_levels, new_drug_levels)\n",
        "\n",
        "print(f\"T-statistic: {t_stat:.2f}\")\n",
        "print(f\"Degrees of Freedom: {df:.2f}\")\n",
        "print(f\"P-value: {p_val:.4f}\")\n",
        "\n",
        "# Determine if we reject the null hypothesis\n",
        "alpha = 0.05\n",
        "if p_val < alpha:\n",
        "  print(\"Reject the null hypothesis. The new drug is more effective in reducing cholesterol levels.\")\n",
        "else:\n",
        "  print(\"Fail to reject the null hypothesis. There is not enough evidence to say the new drug is more effective.\")"
      ],
      "metadata": {
        "id": "1s1MMazX7NPu"
      },
      "execution_count": null,
      "outputs": []
    },
    {
      "cell_type": "markdown",
      "source": [
        "#Q17. A school district introduces an educational intervention program to improve math scores. Write a Python function to analyze pre- and post-intervention test scores, calculating the t-statistic and p-value to determine if the intervention had a significant impact.\n",
        "\n",
        "###Use the following data of test score:\n",
        "\n",
        "\n",
        "  ```python\n",
        "\n",
        "  pre_intervention_scores = [80, 85, 90, 75, 88, 82, 92, 78, 85, 87]\n",
        "\n",
        "  post_intervention_scores = [90, 92, 88, 92, 95, 91, 96, 93, 89, 93]\n",
        "  ```"
      ],
      "metadata": {
        "id": "h2jYLJns7yqx"
      }
    },
    {
      "cell_type": "code",
      "source": [
        "def analyze_intervention(pre_scores, post_scores):\n",
        "  # Convert lists to numpy arrays\n",
        "  pre_scores = np.array(pre_scores)\n",
        "  post_scores = np.array(post_scores)\n",
        "\n",
        "  # Calculate the differences\n",
        "  differences = post_scores - pre_scores\n",
        "\n",
        "  # Calculate mean and standard deviation of the differences\n",
        "  mean_difference = np.mean(differences)\n",
        "  std_difference = np.std(differences, ddof=1)\n",
        "\n",
        "  # Calculate sample size\n",
        "  n = len(differences)\n",
        "\n",
        "  # Calculate t-statistic\n",
        "  t_statistic = mean_difference / (std_difference / np.sqrt(n))\n",
        "\n",
        "  # Calculate degrees of freedom\n",
        "  degrees_of_freedom = n - 1\n",
        "\n",
        "  # Calculate p-value for one-tailed test\n",
        "  p_value = 1 - stats.t.cdf(t_statistic, df=degrees_of_freedom)\n",
        "\n",
        "  return t_statistic, degrees_of_freedom, p_value\n",
        "\n",
        "# Given data\n",
        "pre_intervention_scores = [80, 85, 90, 75, 88, 82, 92, 78, 85, 87]\n",
        "post_intervention_scores = [90, 92, 88, 92, 95, 91, 96, 93, 89, 93]\n",
        "\n",
        "# Perform analysis\n",
        "t_stat, df, p_val = analyze_intervention(pre_intervention_scores, post_intervention_scores)\n",
        "\n",
        "print(f\"T-statistic: {t_stat:.2f}\")\n",
        "print(f\"Degrees of Freedom: {df}\")\n",
        "print(f\"P-value: {p_val:.4f}\")\n",
        "\n",
        "# Determine if we reject the null hypothesis\n",
        "alpha = 0.05\n",
        "if p_val < alpha:\n",
        "  print(\"Reject the null hypothesis. The intervention had a significant impact on math scores.\")\n",
        "else:\n",
        "  print(\"Fail to reject the null hypothesis. There is not enough evidence to say the intervention had a significant impact.\")"
      ],
      "metadata": {
        "id": "WNZNaJR28Wov"
      },
      "execution_count": null,
      "outputs": []
    },
    {
      "cell_type": "markdown",
      "source": [
        "#Q18. An HR department wants to investigate if there's a gender-based salary gap within the company. Develop a program to analyze salary data, calculate the t-statistic, and determine if there's a statistically significant difference between the average salaries of male and female employees.\n",
        "\n",
        "###Use the below code to generate synthetic data:\n",
        "```python\n",
        "\n",
        "# Generate synthetic salary data for male and female employees\n",
        "\n",
        "np.random.seed(0)  # For reproducibility\n",
        "\n",
        "male_salaries = np.random.normal(loc=50000, scale=10000, size=20)\n",
        "\n",
        "female_salaries = np.random.normal(loc=55000, scale=9000, size=20)\n",
        "```"
      ],
      "metadata": {
        "id": "lx1PYlEk8m53"
      }
    },
    {
      "cell_type": "code",
      "source": [
        "np.random.seed(0)  # For reproducibility\n",
        "\n",
        "male_salaries = np.random.normal(loc=50000, scale=10000, size=20)\n",
        "female_salaries = np.random.normal(loc=55000, scale=9000, size=20)\n",
        "\n",
        "def analyze_gender_salary_gap(male_salaries, female_salaries):\n",
        "  # Calculate sample means\n",
        "  mean_male = np.mean(male_salaries)\n",
        "  mean_female = np.mean(female_salaries)\n",
        "\n",
        "  # Calculate sample standard deviations\n",
        "  std_male = np.std(male_salaries, ddof=1)\n",
        "  std_female = np.std(female_salaries, ddof=1)\n",
        "\n",
        "  # Calculate sample sizes\n",
        "  n_male = len(male_salaries)\n",
        "  n_female = len(female_salaries)\n",
        "\n",
        "  # Calculate t-statistic\n",
        "  t_statistic = (mean_male - mean_female) / np.sqrt((std_male**2 / n_male) + (std_female**2 / n_female))\n",
        "\n",
        "  # Calculate degrees of freedom\n",
        "  df_num = ((std_male**2 / n_male) + (std_female**2 / n_female))**2\n",
        "  df_den = ((std_male**2 / n_male)**2 / (n_male - 1)) + ((std_female**2 / n_female)**2 / (n_female - 1))\n",
        "  degrees_of_freedom = df_num / df_den\n",
        "\n",
        "  # Calculate p-value for two-tailed test\n",
        "  p_value = 2 * (1 - stats.t.cdf(np.abs(t_statistic), df=degrees_of_freedom))\n",
        "\n",
        "  return t_statistic, degrees_of_freedom, p_value\n",
        "\n",
        "# Perform analysis\n",
        "t_stat, df, p_val = analyze_gender_salary_gap(male_salaries, female_salaries)\n",
        "\n",
        "print(f\"T-statistic: {t_stat:.2f}\")\n",
        "print(f\"Degrees of Freedom: {df:.2f}\")\n",
        "print(f\"P-value: {p_val:.4f}\")\n",
        "\n",
        "# Determine if we reject the null hypothesis\n",
        "alpha = 0.05\n",
        "if p_val < alpha:\n",
        "  print(\"Reject the null hypothesis. There is a significant difference in average salaries between male and female employees.\")\n",
        "else:\n",
        "  print(\"Fail to reject the null hypothesis. There is no significant difference in average salaries between male and female employees.\")"
      ],
      "metadata": {
        "id": "6ouRhCwh9BfV"
      },
      "execution_count": null,
      "outputs": []
    },
    {
      "cell_type": "markdown",
      "source": [
        "#Q19.  A manufacturer produces two different versions of a product and wants to compare their quality scores. Create a Python function to analyze quality assessment data, calculate the t-statistic, and decide whether there's a significant difference in quality between the two versions.\n",
        "\n",
        "###Use the following data:\n",
        "```python\n",
        "\n",
        "version1_scores = [85, 88, 82, 89, 87, 84, 90, 88, 85, 86, 91, 83, 87, 84, 89, 86, 84, 88, 85, 86, 89, 90, 87, 88, 85]\n",
        "\n",
        "version2_scores = [80, 78, 83, 81, 79, 82, 76, 80, 78, 81, 77, 82, 80, 79, 82, 79, 80, 81, 79, 82, 79, 78, 80, 81, 82]\n",
        "```"
      ],
      "metadata": {
        "id": "YVM4nUZG9iLg"
      }
    },
    {
      "cell_type": "code",
      "source": [
        "def analyze_quality_scores(version1_scores, version2_scores):\n",
        "  # Convert lists to numpy arrays\n",
        "  version1_scores = np.array(version1_scores)\n",
        "  version2_scores = np.array(version2_scores)\n",
        "\n",
        "  # Calculate sample means\n",
        "  mean_v1 = np.mean(version1_scores)\n",
        "  mean_v2 = np.mean(version2_scores)\n",
        "\n",
        "  # Calculate sample standard deviations\n",
        "  std_v1 = np.std(version1_scores, ddof=1)\n",
        "  std_v2 = np.std(version2_scores, ddof=1)\n",
        "\n",
        "  # Calculate sample sizes\n",
        "  n_v1 = len(version1_scores)\n",
        "  n_v2 = len(version2_scores)\n",
        "\n",
        "  # Calculate t-statistic\n",
        "  t_statistic = (mean_v1 - mean_v2) / np.sqrt((std_v1**2 / n_v1) + (std_v2**2 / n_v2))\n",
        "\n",
        "  # Calculate degrees of freedom\n",
        "  df_num = ((std_v1**2 / n_v1) + (std_v2**2 / n_v2))**2\n",
        "  df_den = ((std_v1**2 / n_v1)**2 / (n_v1 - 1)) + ((std_v2**2 / n_v2)**2 / (n_v2 - 1))\n",
        "  degrees_of_freedom = df_num / df_den\n",
        "\n",
        "  # Calculate p-value for two-tailed test\n",
        "  p_value = 2 * (1 - stats.t.cdf(np.abs(t_statistic), df=degrees_of_freedom))\n",
        "\n",
        "  return t_statistic, degrees_of_freedom, p_value\n",
        "\n",
        "# Given data\n",
        "version1_scores = [85, 88, 82, 89, 87, 84, 90, 88, 85, 86, 91, 83, 87, 84, 89, 86, 84, 88, 85, 86, 89, 90, 87, 88, 85]\n",
        "version2_scores = [80, 78, 83, 81, 79, 82, 76, 80, 78, 81, 77, 82, 80, 79, 82, 79, 80, 81, 79, 82, 79, 78, 80, 81, 82]\n",
        "\n",
        "# Perform analysis\n",
        "t_stat, df, p_val = analyze_quality_scores(version1_scores, version2_scores)\n",
        "\n",
        "print(f\"T-statistic: {t_stat:.2f}\")\n",
        "print(f\"Degrees of Freedom: {df:.2f}\")\n",
        "print(f\"P-value: {p_val:.4f}\")\n",
        "\n",
        "# Determine if we reject the null hypothesis\n",
        "alpha = 0.05\n",
        "if p_val < alpha:\n",
        "  print(\"Reject the null hypothesis. There is a significant difference in quality scores between the two versions.\")\n",
        "else:\n",
        "  print(\"Fail to reject the null hypothesis. There is no significant difference in quality scores between the two versions.\")"
      ],
      "metadata": {
        "id": "nXf5kmJx-D3J"
      },
      "execution_count": null,
      "outputs": []
    },
    {
      "cell_type": "markdown",
      "source": [
        "#Q20. A restaurant chain collects customer satisfaction scores for two different branches. Write a program to analyze the scores, calculate the t-statistic, and determine if there's a statistically significant difference in customer satisfaction between the branches.\n",
        "\n",
        "###Use the below data of scores:\n",
        "\n",
        "  ```python\n",
        "\n",
        "branch_a_scores = [4, 5, 3, 4, 5, 4, 5, 3, 4, 4, 5, 4, 4, 3, 4, 5, 5, 4, 3, 4, 5, 4, 3, 5, 4, 4, 5, 3, 4, 5, 4]\n",
        "\n",
        "branch_b_scores = [3, 4, 2, 3, 4, 3, 4, 2, 3, 3, 4, 3, 3, 2, 3, 4, 4, 3, 2, 3, 4, 3, 2, 4, 3, 3, 4, 2, 3, 4, 3]\n",
        "```"
      ],
      "metadata": {
        "id": "CXWnpxca-ZPu"
      }
    },
    {
      "cell_type": "code",
      "source": [
        "\n",
        "def analyze_customer_satisfaction(branch_a_scores, branch_b_scores):\n",
        "  # Convert lists to numpy arrays\n",
        "  branch_a_scores = np.array(branch_a_scores)\n",
        "  branch_b_scores = np.array(branch_b_scores)\n",
        "\n",
        "  # Calculate sample means\n",
        "  mean_a = np.mean(branch_a_scores)\n",
        "  mean_b = np.mean(branch_b_scores)\n",
        "\n",
        "  # Calculate sample standard deviations\n",
        "  std_a = np.std(branch_a_scores, ddof=1)\n",
        "  std_b = np.std(branch_b_scores, ddof=1)\n",
        "\n",
        "  # Calculate sample sizes\n",
        "  n_a = len(branch_a_scores)\n",
        "  n_b = len(branch_b_scores)\n",
        "\n",
        "  # Calculate t-statistic\n",
        "  t_statistic = (mean_a - mean_b) / np.sqrt((std_a**2 / n_a) + (std_b**2 / n_b))\n",
        "\n",
        "  # Calculate degrees of freedom\n",
        "  df_num = ((std_a**2 / n_a) + (std_b**2 / n_b))**2\n",
        "  df_den = ((std_a**2 / n_a)**2 / (n_a - 1)) + ((std_b**2 / n_b)**2 / (n_b - 1))\n",
        "  degrees_of_freedom = df_num / df_den\n",
        "\n",
        "  # Calculate p-value for two-tailed test\n",
        "  p_value = 2 * (1 - stats.t.cdf(np.abs(t_statistic), df=degrees_of_freedom))\n",
        "\n",
        "  return t_statistic, degrees_of_freedom, p_value\n",
        "\n",
        "# Given data\n",
        "branch_a_scores = [4, 5, 3, 4, 5, 4, 5, 3, 4, 4, 5, 4, 4, 3, 4, 5, 5, 4, 3, 4, 5, 4, 3, 5, 4, 4, 5, 3, 4, 5, 4]\n",
        "branch_b_scores = [3, 4, 2, 3, 4, 3, 4, 2, 3, 3, 4, 3, 3, 2, 3, 4, 4, 3, 2, 3, 4, 3, 2, 4, 3, 3, 4, 2, 3, 4, 3]\n",
        "\n",
        "# Perform analysis\n",
        "t_stat, df, p_val = analyze_customer_satisfaction(branch_a_scores, branch_b_scores)\n",
        "\n",
        "print(f\"T-statistic: {t_stat:.2f}\")\n",
        "print(f\"Degrees of Freedom: {df:.2f}\")\n",
        "print(f\"P-value: {p_val:.4f}\")\n",
        "\n",
        "# Determine if we reject the null hypothesis\n",
        "alpha = 0.05\n",
        "if p_val < alpha:\n",
        "  print(\"Reject the null hypothesis. There is a significant difference in customer satisfaction between the two branches.\")\n",
        "else:\n",
        "  print(\"Fail to reject the null hypothesis. There is no significant difference in customer satisfaction between the two branches.\")"
      ],
      "metadata": {
        "id": "WcyaYuG1-08f"
      },
      "execution_count": null,
      "outputs": []
    },
    {
      "cell_type": "markdown",
      "source": [
        "#Q21. A political analyst wants to determine if there is a significant association between age groups and voter preferences (Candidate A or Candidate B). They collect data from a sample of 500 voters and classify them into different age groups and candidate preferences. Perform a Chi-Square test to determine if there is a significant association between age groups and voter preferences.\n",
        "\n",
        "###Use the below code to generate data:\n",
        "\n",
        "```python\n",
        "\n",
        "np.random.seed(0)\n",
        "\n",
        "age_groups = np.random.choice([ 18 30 , 31 50 , 51+', 51+'], size=30)\n",
        "\n",
        "voter_preferences = np.random.choice(['Candidate A', 'Candidate B'], size=30)\n",
        "```"
      ],
      "metadata": {
        "id": "h9txvFBs_Jso"
      }
    },
    {
      "cell_type": "code",
      "source": [
        "np.random.seed(0)\n",
        "\n",
        "age_groups = np.random.choice(['18-30', '31-50', '51+'], size=500)\n",
        "voter_preferences = np.random.choice(['Candidate A', 'Candidate B'], size=500)\n",
        "\n",
        "# Create a DataFrame to hold the data\n",
        "data = pd.DataFrame({'Age Group': age_groups, 'Voter Preference': voter_preferences})\n",
        "\n",
        "# Create the contingency table\n",
        "contingency_table = pd.crosstab(data['Age Group'], data['Voter Preference'])\n",
        "\n",
        "# Perform the Chi-Square test\n",
        "chi2, p, dof, expected = stats.chi2_contingency(contingency_table)\n",
        "\n",
        "# Print the results\n",
        "print(\"Contingency Table:\")\n",
        "print(contingency_table)\n",
        "print(\"\\nChi-Square Test Results:\")\n",
        "print(f\"Chi-Square Statistic: {chi2:.2f}\")\n",
        "print(f\"Degrees of Freedom: {dof}\")\n",
        "print(f\"P-value: {p:.4f}\")\n",
        "\n",
        "# Determine if we reject the null hypothesis\n",
        "alpha = 0.05\n",
        "if p < alpha:\n",
        "  print(\"Reject the null hypothesis. There is a significant association between age groups and voter preferences.\")\n",
        "else:\n",
        "  print(\"Fail to reject the null hypothesis. There is no significant association between age groups and voter preferences.\")"
      ],
      "metadata": {
        "id": "wxNWNC9v_ynp"
      },
      "execution_count": null,
      "outputs": []
    },
    {
      "cell_type": "markdown",
      "source": [
        "#Q22.  A company conducted a customer satisfaction survey to determine if there is a significant relationship between product satisfaction levels (Satisfied, Neutral, Dissatisfied) and the region where customers are located (East, West, North, South). The survey data is summarized in a contingency table. Conduct a ChiSquare test to determine if there is a significant relationship between product satisfaction levels and customer regions.\n",
        "\n",
        "###Sample data:\n",
        "\n",
        "```python\n",
        "\n",
        "#Sample data: Product satisfaction levels (rows) vs. Customer regions (columns)\n",
        "\n",
        "data = np.array([[50, 30, 40, 20], [30, 40, 30, 50], [20, 30, 40, 30]])\n",
        "```"
      ],
      "metadata": {
        "id": "6aq78tRzAXO-"
      }
    },
    {
      "cell_type": "code",
      "source": [
        "data = np.array([[50, 30, 40, 20],\n",
        "                 [30, 40, 30, 50],\n",
        "                 [20, 30, 40, 30]])\n",
        "\n",
        "# Perform the Chi-Square test\n",
        "chi2, p, dof, expected = stats.chi2_contingency(data)\n",
        "\n",
        "# Print the results\n",
        "print(\"Contingency Table:\")\n",
        "print(data)\n",
        "print(\"\\nChi-Square Test Results:\")\n",
        "print(f\"Chi-Square Statistic: {chi2:.2f}\")\n",
        "print(f\"Degrees of Freedom: {dof}\")\n",
        "print(f\"P-value: {p:.4f}\")\n",
        "\n",
        "# Determine if we reject the null hypothesis\n",
        "alpha = 0.05\n",
        "if p < alpha:\n",
        "  print(\"Reject the null hypothesis. There is a significant relationship between product satisfaction levels and customer regions.\")\n",
        "else:\n",
        "  print(\"Fail to reject the null hypothesis. There is no significant relationship between product satisfaction levels and customer regions.\")"
      ],
      "metadata": {
        "id": "9-YQ2JBpAwIn"
      },
      "execution_count": null,
      "outputs": []
    },
    {
      "cell_type": "markdown",
      "source": [
        "#Q23. A company implemented an employee training program to improve job performance (Effective, Neutral, Ineffective). After the training, they collected data from a sample of employees and classified them based on their job performance before and after the training. Perform a Chi-Square test to determine if there is a significant difference between job performance levels before and after the training.\n",
        "\n",
        "###Sample data:\n",
        "\n",
        "```python\n",
        "\n",
        "# Sample data: Job performance levels before (rows) and after (columns) training\n",
        "\n",
        "data = np.array([[50, 30, 20], [30, 40, 30], [20, 30, 40]])\n",
        "```"
      ],
      "metadata": {
        "id": "v4Nrux9_BE8B"
      }
    },
    {
      "cell_type": "code",
      "source": [
        "data = np.array([[50, 30, 20],\n",
        "                 [30, 40, 30],\n",
        "                 [20, 30, 40]])\n",
        "\n",
        "# Perform the Chi-Square test\n",
        "chi2, p, dof, expected = stats.chi2_contingency(data)\n",
        "\n",
        "# Print the results\n",
        "print(\"Contingency Table:\")\n",
        "print(data)\n",
        "print(\"\\nChi-Square Test Results:\")\n",
        "print(f\"Chi-Square Statistic: {chi2:.2f}\")\n",
        "print(f\"Degrees of Freedom: {dof}\")\n",
        "print(f\"P-value: {p:.4f}\")\n",
        "\n",
        "# Determine if we reject the null hypothesis\n",
        "alpha = 0.05\n",
        "if p < alpha:\n",
        "  print(\"Reject the null hypothesis. There is a significant difference in job performance levels before and after the training.\")\n",
        "else:\n",
        "  print(\"Fail to reject the null hypothesis. There is no significant difference in job performance levels before and after the training.\")"
      ],
      "metadata": {
        "id": "7_g9KSC3Bae4"
      },
      "execution_count": null,
      "outputs": []
    },
    {
      "cell_type": "markdown",
      "source": [
        "#Q24. A company produces three different versions of a product: Standard, Premium, and Deluxe. The company wants to determine if there is a significant difference in customer satisfaction scores among the three product versions. They conducted a survey and collected customer satisfaction scores for each version from a random sample of customers. Perform an ANOVA test to determine if there is a significant difference in customer satisfaction scores\n",
        "\n",
        "### Use the following data:\n",
        "\n",
        "  ```python\n",
        "\n",
        "  # Sample data: Customer satisfaction scores for each product version\n",
        "\n",
        "  standard_scores = [80, 85, 90, 78, 88, 82, 92, 78, 85, 87]\n",
        "\n",
        "  premium_scores = [90, 92, 88, 92, 95, 91, 96, 93, 89, 93]\n",
        "\n",
        "  deluxe_scores = [95, 98, 92, 97, 96, 94, 98, 97, 92, 99]\n",
        "  ```"
      ],
      "metadata": {
        "id": "b9YzYHPhBs1g"
      }
    },
    {
      "cell_type": "code",
      "source": [
        "standard_scores = [80, 85, 90, 78, 88, 82, 92, 78, 85, 87]\n",
        "premium_scores = [90, 92, 88, 92, 95, 91, 96, 93, 89, 93]\n",
        "deluxe_scores = [95, 98, 92, 97, 96, 94, 98, 97, 92, 99]\n",
        "\n",
        "# Perform the one-way ANOVA test\n",
        "f_statistic, p_value = stats.f_oneway(standard_scores, premium_scores, deluxe_scores)\n",
        "\n",
        "# Print the results\n",
        "print(\"ANOVA Test Results:\")\n",
        "print(f\"F-statistic: {f_statistic:.2f}\")\n",
        "print(f\"P-value: {p_value:.4f}\")\n",
        "\n",
        "# Determine if we reject the null hypothesis\n",
        "alpha = 0.05\n",
        "if p_value < alpha:\n",
        "  print(\"Reject the null hypothesis. There is a significant difference in customer satisfaction scores among the three product versions.\")\n",
        "else:\n",
        "  print(\"Fail to reject the null hypothesis. There is no significant difference in customer satisfaction scores among the three product versions.\")"
      ],
      "metadata": {
        "id": "UPpkX7kTB-OI"
      },
      "execution_count": null,
      "outputs": []
    }
  ]
}